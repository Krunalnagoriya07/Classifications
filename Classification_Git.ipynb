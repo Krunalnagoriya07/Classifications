{
 "cells": [
  {
   "cell_type": "code",
   "execution_count": 28,
   "metadata": {},
   "outputs": [],
   "source": [
    "import pandas as pd \n",
    "import tkinter as tk\n",
    "import time\n",
    "import statistics\n",
    "import numpy as np\n",
    "\n",
    "from tkinter import filedialog\n",
    "from sklearn.model_selection import KFold, StratifiedKFold\n",
    "from sklearn.metrics import accuracy_score, confusion_matrix, classification_report"
   ]
  },
  {
   "cell_type": "code",
   "execution_count": 5,
   "metadata": {},
   "outputs": [],
   "source": [
    "#Get file Path\n",
    "root = tk.Tk()\n",
    "root.withdraw()\n",
    "file_path = filedialog.askopenfilename()"
   ]
  },
  {
   "cell_type": "code",
   "execution_count": 22,
   "metadata": {},
   "outputs": [],
   "source": [
    "df = pd.read_csv(r'{}'.format(file_path))\n",
    "a = len(df.columns)- 1\n",
    "X = df.iloc[:,:a].values\n",
    "y = df.iloc[:,a].values"
   ]
  },
  {
   "cell_type": "code",
   "execution_count": 23,
   "metadata": {},
   "outputs": [],
   "source": [
    "from sklearn.model_selection import train_test_split\n",
    "X_train, X_test, y_train, y_test = train_test_split(X, y, test_size=0.20, random_state=0)"
   ]
  },
  {
   "cell_type": "code",
   "execution_count": 24,
   "metadata": {},
   "outputs": [],
   "source": [
    "def get_score(model, X_train, X_test, y_train, y_test):\n",
    "    model.fit(X_train, y_train)\n",
    "    y_pred = model.predict(X_test)\n",
    "    print(confusion_matrix(y_test, y_pred))\n",
    "    print(classification_report(y_test, y_pred))\n",
    "    print(y_pred)\n",
    "    print(\"\\n\\nNumber of mislabeled points out of a total %d points : %d\" % (X_test.shape[0], (y_test != y_pred).sum()))\n",
    "    return model.score(X_test, y_test)"
   ]
  },
  {
   "cell_type": "code",
   "execution_count": 25,
   "metadata": {},
   "outputs": [],
   "source": [
    "def skfd(model, X_train, X_test, y_train, y_test):\n",
    "    stratikfold = str(input('Do you wanna perform StratifiedKFold?\\n'))\n",
    "    stratikfold =  stratikfold.upper()\n",
    "    \n",
    "    while(stratikfold != 'YES' and  stratikfold != 'NO'):\n",
    "        print('Invalid Choice!!! 😒')\n",
    "        time.sleep(1)\n",
    "        stratikfold = str(input('Do you wanna perform StratifiedKFold?\\n'))\n",
    "        stratikfold =  stratikfold.upper()\n",
    "    \n",
    "    if( stratikfold == 'YES'):\n",
    "        n_splits = int(input('Enter the number of splits for StratifiedKFold:\\n'))\n",
    "        folds = StratifiedKFold(n_splits)\n",
    "        scores_rf = []\n",
    "        for train_index, test_index in folds.split(X,y):\n",
    "            X_train, X_test, y_train, y_test = X[train_index], X[test_index],y[train_index], y[test_index]\n",
    "            scores_rf.append(get_score(model, X_train, X_test, y_train, y_test))\n",
    "            print(statistics.mean(scores_rf))\n",
    "    else:\n",
    "        print('Good Luck!!! 🤞')\n",
    "    return 0"
   ]
  },
  {
   "cell_type": "code",
   "execution_count": 26,
   "metadata": {},
   "outputs": [],
   "source": [
    "def classification():\n",
    "    choice = int(input('Select any number from below:\\n1. KNearestNeighbor\\n2. DecisionTree\\n3. MultilayerPerceptron\\n4. NaiveBayesClassifier\\n5. RandomForestClassifier\\n6. XGBoost\\n7. SupportVectorMachine\\n\\n'))\n",
    "    while(choice < 1 or choice > 7):\n",
    "        print('Invalid Choice!!! 😒')\n",
    "        time.sleep(1)\n",
    "        choice = int(input('Select any number from below:\\n1. KNearestNeighbor\\n2. DecisionTree\\n3. MultilayerPerceptron\\n4. NaiveBayesClassifier\\n5. RandomForestClassifier\\n6. XGBoost\\n7. SupportVectorMachine\\n\\n'))\n",
    "    if(choice == 1):\n",
    "        print('You have selected KNN! 🤞\\n')\n",
    "        time.sleep(0.5)\n",
    "        from sklearn.neighbors import KNeighborsClassifier\n",
    "        n_neighbors = int(input('Enter the number of nearest neighbors\\n'))\n",
    "        print('accuracy:',get_score(KNeighborsClassifier(n_neighbors), X_train, X_test, y_train, y_test))\n",
    "        skfd(KNeighborsClassifier(n_neighbors), X_train, X_test, y_train, y_test)\n",
    "        \n",
    "    elif(choice == 2):\n",
    "        print('You have Selected DT! 🤞\\n')\n",
    "        time.sleep(0.5)\n",
    "        from sklearn import tree\n",
    "        print('accuracy:',get_score(tree.DecisionTreeClassifier(), X_train, X_test, y_train, y_test))\n",
    "        skfd(tree.DecisionTreeClassifier(), X_train, X_test, y_train, y_test)\n",
    "    elif(choice == 3):\n",
    "        print('You have selected MLP! 🤞\\n')\n",
    "        time.sleep(0.5)\n",
    "        from sklearn.neural_network import MLPClassifier\n",
    "        print('accuracy:',get_score(MLPClassifier(solver='lbfgs', alpha=1e-5,hidden_layer_sizes=(5, 2), random_state=1), X_train, X_test, y_train, y_test))\n",
    "        skfd(MLPClassifier(solver='lbfgs', alpha=1e-5,hidden_layer_sizes=(5, 2), random_state=1), X_train, X_test, y_train, y_test)\n",
    "    elif(choice == 4):\n",
    "        print('You have selected NBC! 🤞\\n')\n",
    "        time.sleep(0.5)\n",
    "        from sklearn.naive_bayes import GaussianNB\n",
    "        print('accuracy:',get_score(GaussianNB(), X_train, X_test, y_train, y_test))\n",
    "        skfd(GaussianNB(), X_train, X_test, y_train, y_test)\n",
    "    elif(choice == 5):\n",
    "        print('You have selected RFC! 🤞\\n')\n",
    "        time.sleep(0.5)\n",
    "        from sklearn.ensemble import RandomForestClassifier\n",
    "        print('accuracy:',get_score(RandomForestClassifier(), X_train, X_test, y_train, y_test))\n",
    "        skfd(RandomForestClassifier(), X_train, X_test, y_train, y_test)\n",
    "        \n",
    "    elif(choice == 6):\n",
    "        print('You have selected XBG! 🤞\\n')\n",
    "        time.sleep(0.5)\n",
    "        import xgboost\n",
    "        print('accuracy:',get_score(xgboost.XGBClassifier(), X_train, X_test, y_train, y_test))\n",
    "        skfd(xgboost.XGBClassifier(), X_train, X_test, y_train, y_test)\n",
    "    elif(choice == 7):\n",
    "        print('You have selected SVM! 🤞\\n')\n",
    "        time.sleep(0.5)\n",
    "        from sklearn import svm\n",
    "        print('accuracy:',get_score(svm.SVC(), X_train, X_test, y_train, y_test))\n",
    "        skfd(svm.SVC(), X_train, X_test, y_train, y_test)"
   ]
  },
  {
   "cell_type": "code",
   "execution_count": 27,
   "metadata": {},
   "outputs": [
    {
     "name": "stdout",
     "output_type": "stream",
     "text": [
      "Select any number from below:\n",
      "1. KNearestNeighbor\n",
      "2. DecisionTree\n",
      "3. MultilayerPerceptron\n",
      "4. NaiveBayesClassifier\n",
      "5. RandomForestClassifier\n",
      "6. XGBoost\n",
      "7. SupportVectorMachine\n",
      "\n",
      "5\n",
      "You have selected RFC! 🤞\n",
      "\n",
      "[[11  0  0]\n",
      " [ 0 13  0]\n",
      " [ 0  0  6]]\n",
      "                 precision    recall  f1-score   support\n",
      "\n",
      "    Iris-setosa       1.00      1.00      1.00        11\n",
      "Iris-versicolor       1.00      1.00      1.00        13\n",
      " Iris-virginica       1.00      1.00      1.00         6\n",
      "\n",
      "       accuracy                           1.00        30\n",
      "      macro avg       1.00      1.00      1.00        30\n",
      "   weighted avg       1.00      1.00      1.00        30\n",
      "\n",
      "['Iris-virginica' 'Iris-versicolor' 'Iris-setosa' 'Iris-virginica'\n",
      " 'Iris-setosa' 'Iris-virginica' 'Iris-setosa' 'Iris-versicolor'\n",
      " 'Iris-versicolor' 'Iris-versicolor' 'Iris-virginica' 'Iris-versicolor'\n",
      " 'Iris-versicolor' 'Iris-versicolor' 'Iris-versicolor' 'Iris-setosa'\n",
      " 'Iris-versicolor' 'Iris-versicolor' 'Iris-setosa' 'Iris-setosa'\n",
      " 'Iris-virginica' 'Iris-versicolor' 'Iris-setosa' 'Iris-setosa'\n",
      " 'Iris-virginica' 'Iris-setosa' 'Iris-setosa' 'Iris-versicolor'\n",
      " 'Iris-versicolor' 'Iris-setosa']\n",
      "\n",
      "\n",
      "Number of mislabeled points out of a total 30 points : 0\n",
      "accuracy: 1.0\n",
      "Do you wanna perform StratifiedKFold?\n",
      "wueoe\n",
      "Invalid Choice!!! 😒\n",
      "Do you wanna perform StratifiedKFold?\n",
      "no\n",
      "Good Luck!!! 🤞\n"
     ]
    }
   ],
   "source": [
    "classification()"
   ]
  }
 ],
 "metadata": {
  "kernelspec": {
   "display_name": "Python 3",
   "language": "python",
   "name": "python3"
  },
  "language_info": {
   "codemirror_mode": {
    "name": "ipython",
    "version": 3
   },
   "file_extension": ".py",
   "mimetype": "text/x-python",
   "name": "python",
   "nbconvert_exporter": "python",
   "pygments_lexer": "ipython3",
   "version": "3.7.6"
  }
 },
 "nbformat": 4,
 "nbformat_minor": 4
}
